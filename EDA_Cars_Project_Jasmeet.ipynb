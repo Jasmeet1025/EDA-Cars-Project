{
 "cells": [
  {
   "cell_type": "markdown",
   "id": "c553bab2-b0ba-4d02-a2d6-7bdad7b5920a",
   "metadata": {},
   "source": [
    "# Exploratory Data Analysis"
   ]
  },
  {
   "cell_type": "markdown",
   "id": "9aba56c0-dd0f-47ca-aed8-48e9592e5f08",
   "metadata": {},
   "source": [
    "## Basic Data Exploration Questions"
   ]
  },
  {
   "cell_type": "code",
   "execution_count": 1,
   "id": "cd7140ec-f372-4188-942d-d7bc9aba08e8",
   "metadata": {},
   "outputs": [],
   "source": [
    "# 1. Display the first 5 rows of the dataset.\n",
    "# 2. Check the number of missing values in each column.\n",
    "# 3. What is data type of each column?\n",
    "# 4. How many unique car models are there?\n",
    "# 5. Which columns have null values, and how would you handle them?\n",
    "# 6. What is the range (min-max) of car prices?\n",
    "# 7. List the top 5 locations with the most cars listed.\n",
    "# 8. Which year has the highest number of cars listed?\n",
    "# 9. What is the distribution of transmission types in the dataset?\n",
    "# 10. Convert 'Mileage' and 'Power' columns into float values. Write a code snippet for it."
   ]
  },
  {
   "cell_type": "markdown",
   "id": "4ded03f6-7c5a-4583-aa95-128ab72f482b",
   "metadata": {},
   "source": [
    "## Grouping and Aggregation Questions"
   ]
  },
  {
   "cell_type": "code",
   "execution_count": 2,
   "id": "b438954c-a6b9-410c-b4a0-ba09b4dae726",
   "metadata": {},
   "outputs": [],
   "source": [
    "# 11. Find the average selling price of cars by Fuel_Type.\n",
    "# 12. Which city has the highest average car price?\n",
    "# 13. Group the cars by Year and count how many cars were listed each year.\n",
    "# 14. Calculate the average mileage for each transmission type.\n",
    "# 15. Which car model has the highest average price?\n",
    "# 16. Group by Owner_Type and find the average kilometers driven.\n",
    "# 17. What is the average power (bhp) of diesel vs petrol cars?\n",
    "# 18. Group the cars by 'Fuel_Type' and 'Transmission' and calculate the mean price.\n",
    "# 19. Which Owner_Type has the highest average resale value?\n",
    "# 20. For each city, what is the average price of automatic cars?"
   ]
  },
  {
   "cell_type": "markdown",
   "id": "170d5e53-06ba-4e55-819b-4989ccd54d9b",
   "metadata": {},
   "source": [
    "# Importing Libraries"
   ]
  },
  {
   "cell_type": "code",
   "execution_count": 3,
   "id": "68a2e6e0-d34e-4071-be00-39d729ec9338",
   "metadata": {},
   "outputs": [],
   "source": [
    "import pandas as pd\n",
    "import numpy as np\n",
    "import seaborn as sns\n",
    "import matplotlib.pyplot as plt\n",
    "import warnings \n",
    "warnings.filterwarnings('ignore')"
   ]
  },
  {
   "cell_type": "markdown",
   "id": "3939193e-b766-404c-88a6-b2429f5a5f4f",
   "metadata": {},
   "source": [
    "# Importing Data"
   ]
  },
  {
   "cell_type": "code",
   "execution_count": 4,
   "id": "2c8fa04e-63d2-4428-957a-beb15f3251fa",
   "metadata": {},
   "outputs": [],
   "source": [
    "path = r\"C:\\Users\\sjasm\\OneDrive\\Desktop\\code\\PROJECT 2\\cars.csv\""
   ]
  },
  {
   "cell_type": "code",
   "execution_count": 5,
   "id": "14d9e065-c2a6-4643-b1a8-c93beed43512",
   "metadata": {},
   "outputs": [],
   "source": [
    "df=pd.read_csv(path)"
   ]
  },
  {
   "cell_type": "code",
   "execution_count": 6,
   "id": "cc42e456-e8e4-4859-9756-aa03164286ef",
   "metadata": {},
   "outputs": [
    {
     "data": {
      "text/html": [
       "<div>\n",
       "<style scoped>\n",
       "    .dataframe tbody tr th:only-of-type {\n",
       "        vertical-align: middle;\n",
       "    }\n",
       "\n",
       "    .dataframe tbody tr th {\n",
       "        vertical-align: top;\n",
       "    }\n",
       "\n",
       "    .dataframe thead th {\n",
       "        text-align: right;\n",
       "    }\n",
       "</style>\n",
       "<table border=\"1\" class=\"dataframe\">\n",
       "  <thead>\n",
       "    <tr style=\"text-align: right;\">\n",
       "      <th></th>\n",
       "      <th>S.No.</th>\n",
       "      <th>Name</th>\n",
       "      <th>Location</th>\n",
       "      <th>Year</th>\n",
       "      <th>Kilometers_Driven</th>\n",
       "      <th>Fuel_Type</th>\n",
       "      <th>Transmission</th>\n",
       "      <th>Owner_Type</th>\n",
       "      <th>Mileage</th>\n",
       "      <th>KM</th>\n",
       "      <th>Power</th>\n",
       "      <th>MM</th>\n",
       "      <th>New_Price</th>\n",
       "      <th>Price</th>\n",
       "    </tr>\n",
       "  </thead>\n",
       "  <tbody>\n",
       "    <tr>\n",
       "      <th>0</th>\n",
       "      <td>0</td>\n",
       "      <td>Maruti Wagon R LXI CNG</td>\n",
       "      <td>Mumbai</td>\n",
       "      <td>2010</td>\n",
       "      <td>72000</td>\n",
       "      <td>CNG</td>\n",
       "      <td>Manual</td>\n",
       "      <td>First</td>\n",
       "      <td>26.60</td>\n",
       "      <td>km/kg</td>\n",
       "      <td>58.16</td>\n",
       "      <td>bhp</td>\n",
       "      <td>NaN</td>\n",
       "      <td>1.75</td>\n",
       "    </tr>\n",
       "    <tr>\n",
       "      <th>1</th>\n",
       "      <td>1</td>\n",
       "      <td>Hyundai Creta 1.6 CRDi SX Option</td>\n",
       "      <td>Pune</td>\n",
       "      <td>2015</td>\n",
       "      <td>41000</td>\n",
       "      <td>Diesel</td>\n",
       "      <td>Manual</td>\n",
       "      <td>First</td>\n",
       "      <td>19.67</td>\n",
       "      <td>kmpl</td>\n",
       "      <td>126.20</td>\n",
       "      <td>bhp</td>\n",
       "      <td>NaN</td>\n",
       "      <td>12.50</td>\n",
       "    </tr>\n",
       "    <tr>\n",
       "      <th>2</th>\n",
       "      <td>2</td>\n",
       "      <td>Honda Jazz V</td>\n",
       "      <td>Chennai</td>\n",
       "      <td>2011</td>\n",
       "      <td>46000</td>\n",
       "      <td>Petrol</td>\n",
       "      <td>Manual</td>\n",
       "      <td>First</td>\n",
       "      <td>18.20</td>\n",
       "      <td>kmpl</td>\n",
       "      <td>88.70</td>\n",
       "      <td>bhp</td>\n",
       "      <td>8.61 Lakh</td>\n",
       "      <td>4.50</td>\n",
       "    </tr>\n",
       "    <tr>\n",
       "      <th>3</th>\n",
       "      <td>3</td>\n",
       "      <td>Maruti Ertiga VDI</td>\n",
       "      <td>Chennai</td>\n",
       "      <td>2012</td>\n",
       "      <td>87000</td>\n",
       "      <td>Diesel</td>\n",
       "      <td>Manual</td>\n",
       "      <td>First</td>\n",
       "      <td>20.77</td>\n",
       "      <td>kmpl</td>\n",
       "      <td>88.76</td>\n",
       "      <td>bhp</td>\n",
       "      <td>NaN</td>\n",
       "      <td>6.00</td>\n",
       "    </tr>\n",
       "    <tr>\n",
       "      <th>4</th>\n",
       "      <td>4</td>\n",
       "      <td>Audi A4 New 2.0 TDI Multitronic</td>\n",
       "      <td>Coimbatore</td>\n",
       "      <td>2013</td>\n",
       "      <td>40670</td>\n",
       "      <td>Diesel</td>\n",
       "      <td>Automatic</td>\n",
       "      <td>Second</td>\n",
       "      <td>15.20</td>\n",
       "      <td>kmpl</td>\n",
       "      <td>140.80</td>\n",
       "      <td>bhp</td>\n",
       "      <td>NaN</td>\n",
       "      <td>17.74</td>\n",
       "    </tr>\n",
       "    <tr>\n",
       "      <th>...</th>\n",
       "      <td>...</td>\n",
       "      <td>...</td>\n",
       "      <td>...</td>\n",
       "      <td>...</td>\n",
       "      <td>...</td>\n",
       "      <td>...</td>\n",
       "      <td>...</td>\n",
       "      <td>...</td>\n",
       "      <td>...</td>\n",
       "      <td>...</td>\n",
       "      <td>...</td>\n",
       "      <td>...</td>\n",
       "      <td>...</td>\n",
       "      <td>...</td>\n",
       "    </tr>\n",
       "    <tr>\n",
       "      <th>7248</th>\n",
       "      <td>7248</td>\n",
       "      <td>Volkswagen Vento Diesel Trendline</td>\n",
       "      <td>Hyderabad</td>\n",
       "      <td>2011</td>\n",
       "      <td>89411</td>\n",
       "      <td>Diesel</td>\n",
       "      <td>Manual</td>\n",
       "      <td>First</td>\n",
       "      <td>20.54</td>\n",
       "      <td>kmpl</td>\n",
       "      <td>103.60</td>\n",
       "      <td>bhp</td>\n",
       "      <td>NaN</td>\n",
       "      <td>NaN</td>\n",
       "    </tr>\n",
       "    <tr>\n",
       "      <th>7249</th>\n",
       "      <td>7249</td>\n",
       "      <td>Volkswagen Polo GT TSI</td>\n",
       "      <td>Mumbai</td>\n",
       "      <td>2015</td>\n",
       "      <td>59000</td>\n",
       "      <td>Petrol</td>\n",
       "      <td>Automatic</td>\n",
       "      <td>First</td>\n",
       "      <td>17.21</td>\n",
       "      <td>kmpl</td>\n",
       "      <td>103.60</td>\n",
       "      <td>bhp</td>\n",
       "      <td>NaN</td>\n",
       "      <td>NaN</td>\n",
       "    </tr>\n",
       "    <tr>\n",
       "      <th>7250</th>\n",
       "      <td>7250</td>\n",
       "      <td>Nissan Micra Diesel XV</td>\n",
       "      <td>Kolkata</td>\n",
       "      <td>2012</td>\n",
       "      <td>28000</td>\n",
       "      <td>Diesel</td>\n",
       "      <td>Manual</td>\n",
       "      <td>First</td>\n",
       "      <td>23.08</td>\n",
       "      <td>kmpl</td>\n",
       "      <td>63.10</td>\n",
       "      <td>bhp</td>\n",
       "      <td>NaN</td>\n",
       "      <td>NaN</td>\n",
       "    </tr>\n",
       "    <tr>\n",
       "      <th>7251</th>\n",
       "      <td>7251</td>\n",
       "      <td>Volkswagen Polo GT TSI</td>\n",
       "      <td>Pune</td>\n",
       "      <td>2013</td>\n",
       "      <td>52262</td>\n",
       "      <td>Petrol</td>\n",
       "      <td>Automatic</td>\n",
       "      <td>Third</td>\n",
       "      <td>17.20</td>\n",
       "      <td>kmpl</td>\n",
       "      <td>103.60</td>\n",
       "      <td>bhp</td>\n",
       "      <td>NaN</td>\n",
       "      <td>NaN</td>\n",
       "    </tr>\n",
       "    <tr>\n",
       "      <th>7252</th>\n",
       "      <td>7252</td>\n",
       "      <td>Mercedes-Benz E-Class 2009-2013 E 220 CDI Avan...</td>\n",
       "      <td>Kochi</td>\n",
       "      <td>2014</td>\n",
       "      <td>72443</td>\n",
       "      <td>Diesel</td>\n",
       "      <td>Automatic</td>\n",
       "      <td>First</td>\n",
       "      <td>10.00</td>\n",
       "      <td>kmpl</td>\n",
       "      <td>170.00</td>\n",
       "      <td>bhp</td>\n",
       "      <td>NaN</td>\n",
       "      <td>NaN</td>\n",
       "    </tr>\n",
       "  </tbody>\n",
       "</table>\n",
       "<p>7253 rows × 14 columns</p>\n",
       "</div>"
      ],
      "text/plain": [
       "      S.No.                                               Name    Location  \\\n",
       "0         0                             Maruti Wagon R LXI CNG      Mumbai   \n",
       "1         1                   Hyundai Creta 1.6 CRDi SX Option        Pune   \n",
       "2         2                                       Honda Jazz V     Chennai   \n",
       "3         3                                  Maruti Ertiga VDI     Chennai   \n",
       "4         4                    Audi A4 New 2.0 TDI Multitronic  Coimbatore   \n",
       "...     ...                                                ...         ...   \n",
       "7248   7248                  Volkswagen Vento Diesel Trendline   Hyderabad   \n",
       "7249   7249                             Volkswagen Polo GT TSI      Mumbai   \n",
       "7250   7250                             Nissan Micra Diesel XV     Kolkata   \n",
       "7251   7251                             Volkswagen Polo GT TSI        Pune   \n",
       "7252   7252  Mercedes-Benz E-Class 2009-2013 E 220 CDI Avan...       Kochi   \n",
       "\n",
       "      Year  Kilometers_Driven Fuel_Type Transmission Owner_Type  Mileage  \\\n",
       "0     2010              72000       CNG       Manual      First    26.60   \n",
       "1     2015              41000    Diesel       Manual      First    19.67   \n",
       "2     2011              46000    Petrol       Manual      First    18.20   \n",
       "3     2012              87000    Diesel       Manual      First    20.77   \n",
       "4     2013              40670    Diesel    Automatic     Second    15.20   \n",
       "...    ...                ...       ...          ...        ...      ...   \n",
       "7248  2011              89411    Diesel       Manual      First    20.54   \n",
       "7249  2015              59000    Petrol    Automatic      First    17.21   \n",
       "7250  2012              28000    Diesel       Manual      First    23.08   \n",
       "7251  2013              52262    Petrol    Automatic      Third    17.20   \n",
       "7252  2014              72443    Diesel    Automatic      First    10.00   \n",
       "\n",
       "         KM   Power   MM  New_Price  Price  \n",
       "0     km/kg   58.16  bhp        NaN   1.75  \n",
       "1      kmpl  126.20  bhp        NaN  12.50  \n",
       "2      kmpl   88.70  bhp  8.61 Lakh   4.50  \n",
       "3      kmpl   88.76  bhp        NaN   6.00  \n",
       "4      kmpl  140.80  bhp        NaN  17.74  \n",
       "...     ...     ...  ...        ...    ...  \n",
       "7248   kmpl  103.60  bhp        NaN    NaN  \n",
       "7249   kmpl  103.60  bhp        NaN    NaN  \n",
       "7250   kmpl   63.10  bhp        NaN    NaN  \n",
       "7251   kmpl  103.60  bhp        NaN    NaN  \n",
       "7252   kmpl  170.00  bhp        NaN    NaN  \n",
       "\n",
       "[7253 rows x 14 columns]"
      ]
     },
     "execution_count": 6,
     "metadata": {},
     "output_type": "execute_result"
    }
   ],
   "source": [
    "df"
   ]
  },
  {
   "cell_type": "code",
   "execution_count": 7,
   "id": "962e1d0b-97ef-446e-9d30-22dcda69cd0c",
   "metadata": {},
   "outputs": [
    {
     "data": {
      "text/plain": [
       "(7253, 14)"
      ]
     },
     "execution_count": 7,
     "metadata": {},
     "output_type": "execute_result"
    }
   ],
   "source": [
    "df.shape"
   ]
  },
  {
   "cell_type": "code",
   "execution_count": 8,
   "id": "ef231a1d-f425-4956-a80d-d3b4fb97fda8",
   "metadata": {},
   "outputs": [],
   "source": [
    "# There are 7253 rows and 14 columns in the data "
   ]
  },
  {
   "cell_type": "markdown",
   "id": "32c5a5a2-6940-46ad-812f-82ced5a6fa09",
   "metadata": {},
   "source": [
    "### Basic Data Exploration Questions"
   ]
  },
  {
   "cell_type": "markdown",
   "id": "e702e31d-9fe8-4e4f-a294-033cdcf39038",
   "metadata": {},
   "source": [
    "### 1. Display the first 5 rows of the dataset."
   ]
  },
  {
   "cell_type": "code",
   "execution_count": 9,
   "id": "ab3b20a5-00fd-4037-a9d7-83a1c1c4ed2e",
   "metadata": {},
   "outputs": [
    {
     "data": {
      "text/html": [
       "<div>\n",
       "<style scoped>\n",
       "    .dataframe tbody tr th:only-of-type {\n",
       "        vertical-align: middle;\n",
       "    }\n",
       "\n",
       "    .dataframe tbody tr th {\n",
       "        vertical-align: top;\n",
       "    }\n",
       "\n",
       "    .dataframe thead th {\n",
       "        text-align: right;\n",
       "    }\n",
       "</style>\n",
       "<table border=\"1\" class=\"dataframe\">\n",
       "  <thead>\n",
       "    <tr style=\"text-align: right;\">\n",
       "      <th></th>\n",
       "      <th>S.No.</th>\n",
       "      <th>Name</th>\n",
       "      <th>Location</th>\n",
       "      <th>Year</th>\n",
       "      <th>Kilometers_Driven</th>\n",
       "      <th>Fuel_Type</th>\n",
       "      <th>Transmission</th>\n",
       "      <th>Owner_Type</th>\n",
       "      <th>Mileage</th>\n",
       "      <th>KM</th>\n",
       "      <th>Power</th>\n",
       "      <th>MM</th>\n",
       "      <th>New_Price</th>\n",
       "      <th>Price</th>\n",
       "    </tr>\n",
       "  </thead>\n",
       "  <tbody>\n",
       "    <tr>\n",
       "      <th>0</th>\n",
       "      <td>0</td>\n",
       "      <td>Maruti Wagon R LXI CNG</td>\n",
       "      <td>Mumbai</td>\n",
       "      <td>2010</td>\n",
       "      <td>72000</td>\n",
       "      <td>CNG</td>\n",
       "      <td>Manual</td>\n",
       "      <td>First</td>\n",
       "      <td>26.60</td>\n",
       "      <td>km/kg</td>\n",
       "      <td>58.16</td>\n",
       "      <td>bhp</td>\n",
       "      <td>NaN</td>\n",
       "      <td>1.75</td>\n",
       "    </tr>\n",
       "    <tr>\n",
       "      <th>1</th>\n",
       "      <td>1</td>\n",
       "      <td>Hyundai Creta 1.6 CRDi SX Option</td>\n",
       "      <td>Pune</td>\n",
       "      <td>2015</td>\n",
       "      <td>41000</td>\n",
       "      <td>Diesel</td>\n",
       "      <td>Manual</td>\n",
       "      <td>First</td>\n",
       "      <td>19.67</td>\n",
       "      <td>kmpl</td>\n",
       "      <td>126.20</td>\n",
       "      <td>bhp</td>\n",
       "      <td>NaN</td>\n",
       "      <td>12.50</td>\n",
       "    </tr>\n",
       "    <tr>\n",
       "      <th>2</th>\n",
       "      <td>2</td>\n",
       "      <td>Honda Jazz V</td>\n",
       "      <td>Chennai</td>\n",
       "      <td>2011</td>\n",
       "      <td>46000</td>\n",
       "      <td>Petrol</td>\n",
       "      <td>Manual</td>\n",
       "      <td>First</td>\n",
       "      <td>18.20</td>\n",
       "      <td>kmpl</td>\n",
       "      <td>88.70</td>\n",
       "      <td>bhp</td>\n",
       "      <td>8.61 Lakh</td>\n",
       "      <td>4.50</td>\n",
       "    </tr>\n",
       "    <tr>\n",
       "      <th>3</th>\n",
       "      <td>3</td>\n",
       "      <td>Maruti Ertiga VDI</td>\n",
       "      <td>Chennai</td>\n",
       "      <td>2012</td>\n",
       "      <td>87000</td>\n",
       "      <td>Diesel</td>\n",
       "      <td>Manual</td>\n",
       "      <td>First</td>\n",
       "      <td>20.77</td>\n",
       "      <td>kmpl</td>\n",
       "      <td>88.76</td>\n",
       "      <td>bhp</td>\n",
       "      <td>NaN</td>\n",
       "      <td>6.00</td>\n",
       "    </tr>\n",
       "    <tr>\n",
       "      <th>4</th>\n",
       "      <td>4</td>\n",
       "      <td>Audi A4 New 2.0 TDI Multitronic</td>\n",
       "      <td>Coimbatore</td>\n",
       "      <td>2013</td>\n",
       "      <td>40670</td>\n",
       "      <td>Diesel</td>\n",
       "      <td>Automatic</td>\n",
       "      <td>Second</td>\n",
       "      <td>15.20</td>\n",
       "      <td>kmpl</td>\n",
       "      <td>140.80</td>\n",
       "      <td>bhp</td>\n",
       "      <td>NaN</td>\n",
       "      <td>17.74</td>\n",
       "    </tr>\n",
       "  </tbody>\n",
       "</table>\n",
       "</div>"
      ],
      "text/plain": [
       "   S.No.                              Name    Location  Year  \\\n",
       "0      0            Maruti Wagon R LXI CNG      Mumbai  2010   \n",
       "1      1  Hyundai Creta 1.6 CRDi SX Option        Pune  2015   \n",
       "2      2                      Honda Jazz V     Chennai  2011   \n",
       "3      3                 Maruti Ertiga VDI     Chennai  2012   \n",
       "4      4   Audi A4 New 2.0 TDI Multitronic  Coimbatore  2013   \n",
       "\n",
       "   Kilometers_Driven Fuel_Type Transmission Owner_Type  Mileage     KM  \\\n",
       "0              72000       CNG       Manual      First    26.60  km/kg   \n",
       "1              41000    Diesel       Manual      First    19.67   kmpl   \n",
       "2              46000    Petrol       Manual      First    18.20   kmpl   \n",
       "3              87000    Diesel       Manual      First    20.77   kmpl   \n",
       "4              40670    Diesel    Automatic     Second    15.20   kmpl   \n",
       "\n",
       "    Power   MM  New_Price  Price  \n",
       "0   58.16  bhp        NaN   1.75  \n",
       "1  126.20  bhp        NaN  12.50  \n",
       "2   88.70  bhp  8.61 Lakh   4.50  \n",
       "3   88.76  bhp        NaN   6.00  \n",
       "4  140.80  bhp        NaN  17.74  "
      ]
     },
     "execution_count": 9,
     "metadata": {},
     "output_type": "execute_result"
    }
   ],
   "source": [
    "df.head() # Prints the first 5 rows of the dataset by default"
   ]
  },
  {
   "cell_type": "markdown",
   "id": "b68028f0-7a0d-40ad-bb24-a09fcfb792d7",
   "metadata": {},
   "source": [
    "### 2. Check the number of missing values in each column."
   ]
  },
  {
   "cell_type": "code",
   "execution_count": 10,
   "id": "ce963d7b-ef53-4eb2-b827-71a401cba9b6",
   "metadata": {},
   "outputs": [
    {
     "data": {
      "text/plain": [
       "S.No.                   0\n",
       "Name                    0\n",
       "Location                0\n",
       "Year                    0\n",
       "Kilometers_Driven       0\n",
       "Fuel_Type               0\n",
       "Transmission            0\n",
       "Owner_Type              0\n",
       "Mileage                 2\n",
       "KM                      2\n",
       "Power                 175\n",
       "MM                     46\n",
       "New_Price            6247\n",
       "Price                1234\n",
       "dtype: int64"
      ]
     },
     "execution_count": 10,
     "metadata": {},
     "output_type": "execute_result"
    }
   ],
   "source": [
    "df.isna().sum() #Prints the sum of the null values in the dataset"
   ]
  },
  {
   "cell_type": "markdown",
   "id": "34c64b50-7453-4fc1-9334-ff473d7e1383",
   "metadata": {},
   "source": [
    "### 3. What is data type of each column?"
   ]
  },
  {
   "cell_type": "code",
   "execution_count": 11,
   "id": "7ea991dc-154e-4269-8b16-5caac5f2a843",
   "metadata": {},
   "outputs": [
    {
     "data": {
      "text/plain": [
       "S.No.                  int64\n",
       "Name                  object\n",
       "Location              object\n",
       "Year                   int64\n",
       "Kilometers_Driven      int64\n",
       "Fuel_Type             object\n",
       "Transmission          object\n",
       "Owner_Type            object\n",
       "Mileage              float64\n",
       "KM                    object\n",
       "Power                float64\n",
       "MM                    object\n",
       "New_Price             object\n",
       "Price                float64\n",
       "dtype: object"
      ]
     },
     "execution_count": 11,
     "metadata": {},
     "output_type": "execute_result"
    }
   ],
   "source": [
    "df.dtypes # Prints the data types present in the current dataset"
   ]
  },
  {
   "cell_type": "markdown",
   "id": "4637e188-0d25-4dc5-93fc-18ae72b6442b",
   "metadata": {},
   "source": [
    "### 4. How many unique car models are there?"
   ]
  },
  {
   "cell_type": "code",
   "execution_count": 12,
   "id": "566bacde-8ee2-47c7-8aeb-754fef28925c",
   "metadata": {},
   "outputs": [
    {
     "data": {
      "text/plain": [
       "2041"
      ]
     },
     "execution_count": 12,
     "metadata": {},
     "output_type": "execute_result"
    }
   ],
   "source": [
    "df[\"Name\"].nunique() # Prints the Interger value of the unique names of cars present in the dataset"
   ]
  },
  {
   "cell_type": "markdown",
   "id": "aa54804d-b147-4bf2-ac51-d7cb66376c2d",
   "metadata": {},
   "source": [
    "### 5. Which columns have null values, and how would you handle them?"
   ]
  },
  {
   "cell_type": "code",
   "execution_count": 13,
   "id": "111a8dab-646f-4bd0-9ec8-35f169522790",
   "metadata": {},
   "outputs": [
    {
     "data": {
      "text/plain": [
       "S.No.                   0\n",
       "Name                    0\n",
       "Location                0\n",
       "Year                    0\n",
       "Kilometers_Driven       0\n",
       "Fuel_Type               0\n",
       "Transmission            0\n",
       "Owner_Type              0\n",
       "Mileage                 2\n",
       "KM                      2\n",
       "Power                 175\n",
       "MM                     46\n",
       "New_Price            6247\n",
       "Price                1234\n",
       "dtype: int64"
      ]
     },
     "execution_count": 13,
     "metadata": {},
     "output_type": "execute_result"
    }
   ],
   "source": [
    "df.isna().sum() # Prints the sum of the null values in each column"
   ]
  },
  {
   "cell_type": "markdown",
   "id": "fef1e9ca-bd37-4d2a-a34d-4ec9211209a1",
   "metadata": {},
   "source": [
    "#### Mileage Column"
   ]
  },
  {
   "cell_type": "code",
   "execution_count": 14,
   "id": "0e0bb3da-ecfd-436d-9c2d-1193989a751e",
   "metadata": {},
   "outputs": [],
   "source": [
    "# Mileage column is a numerical continuous column , It's null values can be filled with mean."
   ]
  },
  {
   "cell_type": "code",
   "execution_count": 15,
   "id": "de11cbff-4f91-476d-adb9-cd786e2e2a5d",
   "metadata": {},
   "outputs": [
    {
     "data": {
      "text/plain": [
       "18.141580471659083"
      ]
     },
     "execution_count": 15,
     "metadata": {},
     "output_type": "execute_result"
    }
   ],
   "source": [
    "df.Mileage.mean()"
   ]
  },
  {
   "cell_type": "code",
   "execution_count": 16,
   "id": "5b8ffb16-d7d3-4756-80ee-16fd14fb1f88",
   "metadata": {},
   "outputs": [],
   "source": [
    "df.Mileage.fillna(df.Mileage.mean(),inplace=True)"
   ]
  },
  {
   "cell_type": "code",
   "execution_count": 17,
   "id": "3dccb195-c8a5-4178-ab3f-74d25f3fb551",
   "metadata": {},
   "outputs": [
    {
     "data": {
      "text/plain": [
       "0"
      ]
     },
     "execution_count": 17,
     "metadata": {},
     "output_type": "execute_result"
    }
   ],
   "source": [
    "df.Mileage.isna().sum()"
   ]
  },
  {
   "cell_type": "markdown",
   "id": "436ef2b9-6965-45ae-b750-7fb859ae087f",
   "metadata": {},
   "source": [
    "#### KM Column"
   ]
  },
  {
   "cell_type": "code",
   "execution_count": 18,
   "id": "e9ebf95d-ba94-4487-9c85-29ac9a5836f4",
   "metadata": {},
   "outputs": [],
   "source": [
    "# KM is a categorical column so we will fill its null values with mode."
   ]
  },
  {
   "cell_type": "code",
   "execution_count": 19,
   "id": "24dbceb0-678c-4609-9105-20783aba5fc4",
   "metadata": {},
   "outputs": [
    {
     "data": {
      "text/plain": [
       "KM\n",
       "kmpl     7177\n",
       "km/kg      74\n",
       "Name: count, dtype: int64"
      ]
     },
     "execution_count": 19,
     "metadata": {},
     "output_type": "execute_result"
    }
   ],
   "source": [
    "df.KM.value_counts()"
   ]
  },
  {
   "cell_type": "code",
   "execution_count": 20,
   "id": "0a4cfc3f-8604-4d93-abd3-46edaba0d73a",
   "metadata": {},
   "outputs": [
    {
     "data": {
      "text/plain": [
       "'kmpl'"
      ]
     },
     "execution_count": 20,
     "metadata": {},
     "output_type": "execute_result"
    }
   ],
   "source": [
    "df.KM.mode().iloc[0]"
   ]
  },
  {
   "cell_type": "code",
   "execution_count": 21,
   "id": "78e9ae29-e3e7-43e0-940e-4f3e99975409",
   "metadata": {},
   "outputs": [],
   "source": [
    "df.KM.fillna(df.KM.mode().iloc[0],inplace=True)"
   ]
  },
  {
   "cell_type": "code",
   "execution_count": 22,
   "id": "9e25fc9f-b2cc-4d39-8ebb-8be6bd54e685",
   "metadata": {},
   "outputs": [
    {
     "data": {
      "text/plain": [
       "0"
      ]
     },
     "execution_count": 22,
     "metadata": {},
     "output_type": "execute_result"
    }
   ],
   "source": [
    "df.KM.isna().sum()"
   ]
  },
  {
   "cell_type": "markdown",
   "id": "66e0ff37-42e6-4362-98df-822d41c4de70",
   "metadata": {},
   "source": [
    "#### Power Column"
   ]
  },
  {
   "cell_type": "code",
   "execution_count": 23,
   "id": "0ccc0538-1614-4772-9ac1-fcd1d43ab273",
   "metadata": {},
   "outputs": [],
   "source": [
    "# Power column is a numerical continous column so we will fill its null values with mean"
   ]
  },
  {
   "cell_type": "code",
   "execution_count": 24,
   "id": "eac1d339-a760-4cc3-a8d1-7dc119194e40",
   "metadata": {},
   "outputs": [
    {
     "data": {
      "text/plain": [
       "112.76521404351512"
      ]
     },
     "execution_count": 24,
     "metadata": {},
     "output_type": "execute_result"
    }
   ],
   "source": [
    "df.Power.mean()"
   ]
  },
  {
   "cell_type": "code",
   "execution_count": 25,
   "id": "1b600ab4-01e2-47c6-9abb-b5bd5377b5d8",
   "metadata": {},
   "outputs": [],
   "source": [
    "df.Power.fillna(df.Power.mean(),inplace=True)"
   ]
  },
  {
   "cell_type": "code",
   "execution_count": 26,
   "id": "f832f20b-2d2e-44d9-9e24-df6e9a250990",
   "metadata": {},
   "outputs": [
    {
     "data": {
      "text/plain": [
       "0"
      ]
     },
     "execution_count": 26,
     "metadata": {},
     "output_type": "execute_result"
    }
   ],
   "source": [
    "df.Power.isna().sum()"
   ]
  },
  {
   "cell_type": "markdown",
   "id": "1ec3df8b-6467-48a1-9cee-7a111c14439a",
   "metadata": {},
   "source": [
    "#### MM Column"
   ]
  },
  {
   "cell_type": "code",
   "execution_count": 27,
   "id": "03a535b4-4c4a-44f5-86a5-a8402d8a75d1",
   "metadata": {},
   "outputs": [
    {
     "data": {
      "text/plain": [
       "46"
      ]
     },
     "execution_count": 27,
     "metadata": {},
     "output_type": "execute_result"
    }
   ],
   "source": [
    "df.MM.isna().sum()"
   ]
  },
  {
   "cell_type": "code",
   "execution_count": 28,
   "id": "75f2ee54-bb38-466c-bad8-557d521d4812",
   "metadata": {},
   "outputs": [
    {
     "data": {
      "text/plain": [
       "1"
      ]
     },
     "execution_count": 28,
     "metadata": {},
     "output_type": "execute_result"
    }
   ],
   "source": [
    "df.MM.nunique()"
   ]
  },
  {
   "cell_type": "code",
   "execution_count": 29,
   "id": "280c9e23-533f-48ae-8434-3b1f61a1d9b3",
   "metadata": {},
   "outputs": [],
   "source": [
    "# Since this column only has one unique value we will drop the column Because we are not sure what this column could represent."
   ]
  },
  {
   "cell_type": "code",
   "execution_count": 30,
   "id": "161e82ae-b3bc-465c-a27d-6838864e35d0",
   "metadata": {},
   "outputs": [],
   "source": [
    "df.drop(columns=\"MM\", inplace=True)"
   ]
  },
  {
   "cell_type": "markdown",
   "id": "6b93dcda-32fa-4ac3-8b5c-12ab76636025",
   "metadata": {},
   "source": [
    "#### New_Price Column"
   ]
  },
  {
   "cell_type": "code",
   "execution_count": 31,
   "id": "a376509b-f0df-438f-8c41-39eeb81f2d14",
   "metadata": {},
   "outputs": [
    {
     "data": {
      "text/plain": [
       "6247"
      ]
     },
     "execution_count": 31,
     "metadata": {},
     "output_type": "execute_result"
    }
   ],
   "source": [
    "df.New_Price.isna().sum()"
   ]
  },
  {
   "cell_type": "code",
   "execution_count": 32,
   "id": "214d8bff-1a08-412c-8e30-6727677cadf6",
   "metadata": {},
   "outputs": [],
   "source": [
    "# This column has significant amount of null values so we will drop this column aswell."
   ]
  },
  {
   "cell_type": "code",
   "execution_count": 33,
   "id": "1e6e77b3-0a66-462b-893b-944227812bc4",
   "metadata": {},
   "outputs": [],
   "source": [
    "df.drop(columns=\"New_Price\",inplace=True)"
   ]
  },
  {
   "cell_type": "markdown",
   "id": "3645c86b-8372-4e87-a8cd-b7ff5028dbca",
   "metadata": {},
   "source": [
    "#### Price Column"
   ]
  },
  {
   "cell_type": "code",
   "execution_count": 34,
   "id": "fbda6064-1a0b-43ee-b545-a1fd5698881d",
   "metadata": {},
   "outputs": [
    {
     "data": {
      "text/plain": [
       "1234"
      ]
     },
     "execution_count": 34,
     "metadata": {},
     "output_type": "execute_result"
    }
   ],
   "source": [
    "df.Price.isna().sum() "
   ]
  },
  {
   "cell_type": "code",
   "execution_count": 35,
   "id": "dce6aeeb-ef89-40c0-ae36-c23c47a3147b",
   "metadata": {},
   "outputs": [
    {
     "data": {
      "image/png": "[encoded data removed]",
      "text/plain": [
       "<Figure size 640x480 with 1 Axes>"
      ]
     },
     "metadata": {},
     "output_type": "display_data"
    }
   ],
   "source": [
    "df.Price.hist(bins=50)\n",
    "plt.title(\"Price Distribution\")\n",
    "plt.xlabel(\"Price\")\n",
    "plt.ylabel(\"Frequency\")\n",
    "plt.show() # A histogram to see the Distribution for us to visualize and decide how to fill null values."
   ]
  },
  {
   "cell_type": "code",
   "execution_count": 36,
   "id": "012d9f4a-8b2f-4ce8-9ad1-d5688f533c8a",
   "metadata": {},
   "outputs": [],
   "source": [
    "# The histogram of Price column is highly left-skewed , so we know more values are low and fewer values are high.\n",
    "# We will replace null values with median instead of mean, to get a better central value."
   ]
  },
  {
   "cell_type": "code",
   "execution_count": 37,
   "id": "e4799360-cd39-45cc-8044-bb9c6e2ea86f",
   "metadata": {},
   "outputs": [
    {
     "data": {
      "text/plain": [
       "5.64"
      ]
     },
     "execution_count": 37,
     "metadata": {},
     "output_type": "execute_result"
    }
   ],
   "source": [
    "df.Price.median()"
   ]
  },
  {
   "cell_type": "code",
   "execution_count": 38,
   "id": "bdd4574e-abbe-48f3-8dd0-87d71e8d7d2f",
   "metadata": {},
   "outputs": [],
   "source": [
    "df.Price.fillna(df.Price.median(), inplace=True)"
   ]
  },
  {
   "cell_type": "code",
   "execution_count": 39,
   "id": "6f48c62e-9d39-408a-ae7d-4074bd58e048",
   "metadata": {},
   "outputs": [
    {
     "data": {
      "text/plain": [
       "0"
      ]
     },
     "execution_count": 39,
     "metadata": {},
     "output_type": "execute_result"
    }
   ],
   "source": [
    "df.Price.isna().sum()"
   ]
  },
  {
   "cell_type": "markdown",
   "id": "4c674082-a708-47be-aa31-04ec353b552c",
   "metadata": {},
   "source": [
    "## Check for null values again.\n",
    "df.isna().sum()"
   ]
  },
  {
   "cell_type": "code",
   "execution_count": 40,
   "id": "6b1955af-89cd-48e5-a510-cf5e048f77b2",
   "metadata": {},
   "outputs": [
    {
     "data": {
      "text/plain": [
       "S.No.                0\n",
       "Name                 0\n",
       "Location             0\n",
       "Year                 0\n",
       "Kilometers_Driven    0\n",
       "Fuel_Type            0\n",
       "Transmission         0\n",
       "Owner_Type           0\n",
       "Mileage              0\n",
       "KM                   0\n",
       "Power                0\n",
       "Price                0\n",
       "dtype: int64"
      ]
     },
     "execution_count": 40,
     "metadata": {},
     "output_type": "execute_result"
    }
   ],
   "source": [
    "df.isna().sum()\n",
    "# Null values are handled."
   ]
  },
  {
   "cell_type": "markdown",
   "id": "c7ca967b-9745-4293-b102-d9f31e6ce246",
   "metadata": {},
   "source": [
    "### 6. What is the range (min-max) of car prices?"
   ]
  },
  {
   "cell_type": "code",
   "execution_count": 41,
   "id": "7aa7bd9f-0a0b-4808-adde-10110f2f9dca",
   "metadata": {},
   "outputs": [
    {
     "data": {
      "text/plain": [
       "0.44"
      ]
     },
     "execution_count": 41,
     "metadata": {},
     "output_type": "execute_result"
    }
   ],
   "source": [
    "df[\"Price\"].min() # Returns the minimum interger value in the column"
   ]
  },
  {
   "cell_type": "code",
   "execution_count": 42,
   "id": "287bc7bb-dfef-4007-8b80-8be528d321d2",
   "metadata": {},
   "outputs": [
    {
     "data": {
      "text/plain": [
       "160.0"
      ]
     },
     "execution_count": 42,
     "metadata": {},
     "output_type": "execute_result"
    }
   ],
   "source": [
    "df[\"Price\"].max() # Returns the maximum interger value in the column"
   ]
  },
  {
   "cell_type": "markdown",
   "id": "8f3e4db0-2ac0-4e46-a071-17d312c64671",
   "metadata": {},
   "source": [
    "### 7. List the top 5 locations with the most cars listed."
   ]
  },
  {
   "cell_type": "code",
   "execution_count": 43,
   "id": "f6f09095-f86f-4c97-aa47-5b08269fad92",
   "metadata": {},
   "outputs": [
    {
     "data": {
      "text/plain": [
       "Location\n",
       "Mumbai        949\n",
       "Hyderabad     876\n",
       "Coimbatore    772\n",
       "Kochi         772\n",
       "Pune          765\n",
       "Name: count, dtype: int64"
      ]
     },
     "execution_count": 43,
     "metadata": {},
     "output_type": "execute_result"
    }
   ],
   "source": [
    "df[\"Location\"].value_counts().nlargest() # By default nlargest returns top 5 values"
   ]
  },
  {
   "cell_type": "markdown",
   "id": "88f1797f-706e-4260-b60a-7e1a200c9b95",
   "metadata": {},
   "source": [
    "### 8. Which year has the highest number of cars listed?"
   ]
  },
  {
   "cell_type": "code",
   "execution_count": 44,
   "id": "505d86bb-686b-49cd-85dc-08f459417c30",
   "metadata": {},
   "outputs": [
    {
     "data": {
      "text/plain": [
       "2015"
      ]
     },
     "execution_count": 44,
     "metadata": {},
     "output_type": "execute_result"
    }
   ],
   "source": [
    "df[\"Year\"].value_counts().idxmax() # This gives us the index (year) that has the maximum count."
   ]
  },
  {
   "cell_type": "markdown",
   "id": "827e0882-e72b-4fb1-b412-bfeb070d16a8",
   "metadata": {},
   "source": [
    "### 9. What is the distribution of transmission types in the dataset?"
   ]
  },
  {
   "cell_type": "code",
   "execution_count": 45,
   "id": "1ccad221-a4d1-4a8d-9e29-4bf9a799a2d7",
   "metadata": {},
   "outputs": [
    {
     "data": {
      "text/plain": [
       "Transmission\n",
       "Manual       5204\n",
       "Automatic    2049\n",
       "Name: count, dtype: int64"
      ]
     },
     "execution_count": 45,
     "metadata": {},
     "output_type": "execute_result"
    }
   ],
   "source": [
    "df[\"Transmission\"].value_counts() # Returns different types of values and how many times they appeared."
   ]
  },
  {
   "cell_type": "markdown",
   "id": "7389aaff-1a8f-4afc-9c3f-b7439d044690",
   "metadata": {},
   "source": [
    "### 10. Convert 'Mileage' and 'Power' columns into float values. Write a code snippet for it."
   ]
  },
  {
   "cell_type": "code",
   "execution_count": 46,
   "id": "65b433a9-10cf-4f34-8608-cab339eed0d3",
   "metadata": {},
   "outputs": [],
   "source": [
    "# Mileage column"
   ]
  },
  {
   "cell_type": "code",
   "execution_count": 47,
   "id": "9994655d-cac8-4945-9687-b465ec58ffa2",
   "metadata": {},
   "outputs": [
    {
     "data": {
      "text/plain": [
       "dtype('float64')"
      ]
     },
     "execution_count": 47,
     "metadata": {},
     "output_type": "execute_result"
    }
   ],
   "source": [
    "df[\"Mileage\"].dtype # This is already in float so I will convert it to int."
   ]
  },
  {
   "cell_type": "code",
   "execution_count": 48,
   "id": "15cb4eff-a95a-46a8-8286-9ce7902b699c",
   "metadata": {},
   "outputs": [],
   "source": [
    "df[\"Mileage\"]=df[\"Mileage\"].astype(int)"
   ]
  },
  {
   "cell_type": "code",
   "execution_count": 49,
   "id": "e7cbb840-f55a-45cc-aebc-fe41a5dd99cf",
   "metadata": {},
   "outputs": [
    {
     "data": {
      "text/plain": [
       "dtype('int32')"
      ]
     },
     "execution_count": 49,
     "metadata": {},
     "output_type": "execute_result"
    }
   ],
   "source": [
    "df.Mileage.dtype"
   ]
  },
  {
   "cell_type": "code",
   "execution_count": 50,
   "id": "3206a6ba-4a6d-4e47-b3b7-dcdb00c13d04",
   "metadata": {},
   "outputs": [],
   "source": [
    "# Power column"
   ]
  },
  {
   "cell_type": "code",
   "execution_count": 51,
   "id": "ba131d1f-ec6f-4f1c-9dd4-de708572dd1f",
   "metadata": {},
   "outputs": [
    {
     "data": {
      "text/plain": [
       "dtype('float64')"
      ]
     },
     "execution_count": 51,
     "metadata": {},
     "output_type": "execute_result"
    }
   ],
   "source": [
    "df[\"Power\"].dtype # This is already in float so I will convert it to int."
   ]
  },
  {
   "cell_type": "code",
   "execution_count": 52,
   "id": "94545f68-8c11-45ee-a57d-ce03ec62e189",
   "metadata": {},
   "outputs": [],
   "source": [
    "df[\"Power\"]=df[\"Power\"].astype(int)"
   ]
  },
  {
   "cell_type": "code",
   "execution_count": 53,
   "id": "5bea722f-13a8-4c93-b376-42b1a52f81a7",
   "metadata": {},
   "outputs": [
    {
     "data": {
      "text/plain": [
       "dtype('int32')"
      ]
     },
     "execution_count": 53,
     "metadata": {},
     "output_type": "execute_result"
    }
   ],
   "source": [
    "df[\"Power\"].dtype"
   ]
  },
  {
   "cell_type": "markdown",
   "id": "adc9db90-5015-4bfe-93c1-0884ef669c30",
   "metadata": {},
   "source": [
    "## Grouping and Aggregation Questions"
   ]
  },
  {
   "cell_type": "markdown",
   "id": "729afd58-5a65-42df-8873-07cae77963a7",
   "metadata": {},
   "source": [
    "### 11. Find the average selling price of cars by Fuel_Type."
   ]
  },
  {
   "cell_type": "code",
   "execution_count": 54,
   "id": "8db89a66-8af2-4669-a232-6b9dda46e65d",
   "metadata": {},
   "outputs": [
    {
     "data": {
      "text/plain": [
       "Fuel_Type\n",
       "CNG          3.722258\n",
       "Diesel      11.631158\n",
       "Electric    12.875000\n",
       "LPG          3.012500\n",
       "Petrol       5.690460\n",
       "Name: Price, dtype: float64"
      ]
     },
     "execution_count": 54,
     "metadata": {},
     "output_type": "execute_result"
    }
   ],
   "source": [
    "df.groupby(\"Fuel_Type\")[\"Price\"].mean() # Returns Average of the price grouped by fuel type."
   ]
  },
  {
   "cell_type": "markdown",
   "id": "ffdac1a1-a73b-40df-9b05-f7b77e51e36e",
   "metadata": {},
   "source": [
    "### 12. Which city has the highest average car price?"
   ]
  },
  {
   "cell_type": "code",
   "execution_count": 55,
   "id": "f01aa858-0296-4552-9cdf-95baff6d96bd",
   "metadata": {},
   "outputs": [
    {
     "data": {
      "text/plain": [
       "Location\n",
       "Coimbatore    13.415531\n",
       "Bangalore     11.895750\n",
       "Kochi         10.310997\n",
       "Hyderabad      9.143790\n",
       "Delhi          9.054424\n",
       "Name: Price, dtype: float64"
      ]
     },
     "execution_count": 55,
     "metadata": {},
     "output_type": "execute_result"
    }
   ],
   "source": [
    "df.groupby(\"Location\")[\"Price\"].mean().nlargest() # Returns first 5 Average of the price grouped by Location."
   ]
  },
  {
   "cell_type": "markdown",
   "id": "89cecbb0-dd49-4e8d-a310-11bb6e7f3154",
   "metadata": {},
   "source": [
    "### 13. Group the cars by Year and count how many cars were listed each year."
   ]
  },
  {
   "cell_type": "code",
   "execution_count": 56,
   "id": "ac8b22c1-d87d-4140-bf3b-717384fe4dcb",
   "metadata": {},
   "outputs": [
    {
     "data": {
      "text/plain": [
       "Year\n",
       "1996      1\n",
       "1998      4\n",
       "1999      2\n",
       "2000      5\n",
       "2001      8\n",
       "2002     18\n",
       "2003     20\n",
       "2004     35\n",
       "2005     68\n",
       "2006     89\n",
       "2007    148\n",
       "2008    207\n",
       "2009    252\n",
       "2010    407\n",
       "2011    579\n",
       "2012    690\n",
       "2013    791\n",
       "2014    925\n",
       "2015    929\n",
       "2016    886\n",
       "2017    709\n",
       "2018    361\n",
       "2019    119\n",
       "dtype: int64"
      ]
     },
     "execution_count": 56,
     "metadata": {},
     "output_type": "execute_result"
    }
   ],
   "source": [
    "df.groupby(\"Year\").size() # Returns size of rows grouped by Year column."
   ]
  },
  {
   "cell_type": "markdown",
   "id": "a8f0388c-ead1-47b0-a3e3-1cde78bf2d13",
   "metadata": {},
   "source": [
    "### 14. Calculate the average mileage for each transmission type."
   ]
  },
  {
   "cell_type": "code",
   "execution_count": 57,
   "id": "d0ee0c16-aae0-46e0-8f31-3b777e1802be",
   "metadata": {},
   "outputs": [
    {
     "data": {
      "text/plain": [
       "Transmission\n",
       "Automatic    15.328941\n",
       "Manual       18.658340\n",
       "Name: Mileage, dtype: float64"
      ]
     },
     "execution_count": 57,
     "metadata": {},
     "output_type": "execute_result"
    }
   ],
   "source": [
    "df.groupby(\"Transmission\")[\"Mileage\"].mean() # Returns Average of the Mileage grouped by Transmission."
   ]
  },
  {
   "cell_type": "markdown",
   "id": "0a3c7466-10f7-472d-99c7-57be29c6af8f",
   "metadata": {},
   "source": [
    "### 15. Which car model has the highest average price?"
   ]
  },
  {
   "cell_type": "code",
   "execution_count": 58,
   "id": "c5d46e10-2a75-46ab-a7fe-d1ca00cd273e",
   "metadata": {},
   "outputs": [
    {
     "data": {
      "text/plain": [
       "Name\n",
       "Land Rover Range Rover 3.0 Diesel LWB Vogue    160.000\n",
       "Lamborghini Gallardo Coupe                     120.000\n",
       "Jaguar F Type 5.0 V8 S                         100.000\n",
       "BMW 7 Series 740Li                              93.335\n",
       "Mercedes-Benz SLK-Class 55 AMG                  90.000\n",
       "Name: Price, dtype: float64"
      ]
     },
     "execution_count": 58,
     "metadata": {},
     "output_type": "execute_result"
    }
   ],
   "source": [
    "df.groupby(\"Name\")[\"Price\"].mean().nlargest() # Returns first 5 Average prices of the Car models"
   ]
  },
  {
   "cell_type": "markdown",
   "id": "b8082499-93f5-4e33-a67e-80c9b38b79be",
   "metadata": {},
   "source": [
    "### 16. Group by Owner_Type and find the average kilometers driven."
   ]
  },
  {
   "cell_type": "code",
   "execution_count": 59,
   "id": "26fa7d57-2c26-470a-a0b8-557e50be1c18",
   "metadata": {},
   "outputs": [
    {
     "data": {
      "text/plain": [
       "Owner_Type\n",
       "First              55255.363911\n",
       "Second             72433.625868\n",
       "Third              87472.729927\n",
       "Fourth & Above    119756.500000\n",
       "Name: Kilometers_Driven, dtype: float64"
      ]
     },
     "execution_count": 59,
     "metadata": {},
     "output_type": "execute_result"
    }
   ],
   "source": [
    "df.groupby(\"Owner_Type\")[\"Kilometers_Driven\"].mean().sort_values() # Returns Average Kilometers driven by different Owner types in ascending order."
   ]
  },
  {
   "cell_type": "markdown",
   "id": "af1136f9-604b-4b27-b45e-b93f8e1d97bb",
   "metadata": {},
   "source": [
    "### 17. What is the average power (bhp) of diesel vs petrol cars?"
   ]
  },
  {
   "cell_type": "code",
   "execution_count": 60,
   "id": "eeb31a88-bd2f-4827-a8f5-ed4c54e7aaa8",
   "metadata": {},
   "outputs": [
    {
     "data": {
      "text/plain": [
       "Fuel_Type\n",
       "CNG          64.838710\n",
       "Diesel      126.639408\n",
       "Electric     57.000000\n",
       "LPG          62.250000\n",
       "Petrol       97.087519\n",
       "Name: Power, dtype: float64"
      ]
     },
     "execution_count": 60,
     "metadata": {},
     "output_type": "execute_result"
    }
   ],
   "source": [
    "df.groupby(\"Fuel_Type\")[\"Power\"].mean() # Returns Average Power of different Fuel type cars."
   ]
  },
  {
   "cell_type": "markdown",
   "id": "45902254-6b60-40c2-99e5-5d21c25d87ba",
   "metadata": {},
   "source": [
    "### 18. Group the cars by 'Fuel_Type' and 'Transmission' and calculate the mean price."
   ]
  },
  {
   "cell_type": "code",
   "execution_count": 61,
   "id": "5e66d1cf-44db-4cd5-8b67-cd15711c97c7",
   "metadata": {},
   "outputs": [
    {
     "data": {
      "text/plain": [
       "Fuel_Type  Transmission\n",
       "CNG        Manual           3.722258\n",
       "Diesel     Automatic       21.576925\n",
       "           Manual           6.464067\n",
       "Electric   Automatic       12.875000\n",
       "LPG        Manual           3.012500\n",
       "Petrol     Automatic       10.335110\n",
       "           Manual           4.383873\n",
       "Name: Price, dtype: float64"
      ]
     },
     "execution_count": 61,
     "metadata": {},
     "output_type": "execute_result"
    }
   ],
   "source": [
    "df.groupby([\"Fuel_Type\",\"Transmission\"])[\"Price\"].mean() # Returns Average of the price grouped by fuel type as aswell as Transmission type."
   ]
  },
  {
   "cell_type": "markdown",
   "id": "09fec370-81ec-42fa-8cb7-7a9ff321cf9c",
   "metadata": {},
   "source": [
    "### 19. Which Owner_Type has the highest average resale value?"
   ]
  },
  {
   "cell_type": "code",
   "execution_count": 62,
   "id": "18f65b77-f9a6-4399-bdbe-3356627426e3",
   "metadata": {},
   "outputs": [
    {
     "data": {
      "text/plain": [
       "Owner_Type\n",
       "First    9.219525\n",
       "Name: Price, dtype: float64"
      ]
     },
     "execution_count": 62,
     "metadata": {},
     "output_type": "execute_result"
    }
   ],
   "source": [
    "df.groupby(\"Owner_Type\")[\"Price\"].mean().nlargest(1) # Returns the highest Average price value grouped by Owner type."
   ]
  },
  {
   "cell_type": "markdown",
   "id": "1e7e614a-5700-412b-852c-c36b2b773ff7",
   "metadata": {},
   "source": [
    "### 20. For each city, what is the average price of automatic cars?"
   ]
  },
  {
   "cell_type": "code",
   "execution_count": 63,
   "id": "2e597741-e1ac-4493-a33f-fff80aeb2ad9",
   "metadata": {},
   "outputs": [],
   "source": [
    "Autotype=df[df.Transmission == \"Automatic\"] \n",
    "# Makes a new dataframe (Autotype) which contains only the rows which include transmission type as automatic."
   ]
  },
  {
   "cell_type": "code",
   "execution_count": 64,
   "id": "91a43e19-d496-4205-8328-0d413d3fa006",
   "metadata": {},
   "outputs": [
    {
     "data": {
      "text/html": [
       "<div>\n",
       "<style scoped>\n",
       "    .dataframe tbody tr th:only-of-type {\n",
       "        vertical-align: middle;\n",
       "    }\n",
       "\n",
       "    .dataframe tbody tr th {\n",
       "        vertical-align: top;\n",
       "    }\n",
       "\n",
       "    .dataframe thead th {\n",
       "        text-align: right;\n",
       "    }\n",
       "</style>\n",
       "<table border=\"1\" class=\"dataframe\">\n",
       "  <thead>\n",
       "    <tr style=\"text-align: right;\">\n",
       "      <th></th>\n",
       "      <th>S.No.</th>\n",
       "      <th>Name</th>\n",
       "      <th>Location</th>\n",
       "      <th>Year</th>\n",
       "      <th>Kilometers_Driven</th>\n",
       "      <th>Fuel_Type</th>\n",
       "      <th>Transmission</th>\n",
       "      <th>Owner_Type</th>\n",
       "      <th>Mileage</th>\n",
       "      <th>KM</th>\n",
       "      <th>Power</th>\n",
       "      <th>Price</th>\n",
       "    </tr>\n",
       "  </thead>\n",
       "  <tbody>\n",
       "    <tr>\n",
       "      <th>4</th>\n",
       "      <td>4</td>\n",
       "      <td>Audi A4 New 2.0 TDI Multitronic</td>\n",
       "      <td>Coimbatore</td>\n",
       "      <td>2013</td>\n",
       "      <td>40670</td>\n",
       "      <td>Diesel</td>\n",
       "      <td>Automatic</td>\n",
       "      <td>Second</td>\n",
       "      <td>15</td>\n",
       "      <td>kmpl</td>\n",
       "      <td>140</td>\n",
       "      <td>17.74</td>\n",
       "    </tr>\n",
       "    <tr>\n",
       "      <th>7</th>\n",
       "      <td>7</td>\n",
       "      <td>Toyota Innova Crysta 2.8 GX AT 8S</td>\n",
       "      <td>Mumbai</td>\n",
       "      <td>2016</td>\n",
       "      <td>36000</td>\n",
       "      <td>Diesel</td>\n",
       "      <td>Automatic</td>\n",
       "      <td>First</td>\n",
       "      <td>11</td>\n",
       "      <td>kmpl</td>\n",
       "      <td>171</td>\n",
       "      <td>17.50</td>\n",
       "    </tr>\n",
       "    <tr>\n",
       "      <th>11</th>\n",
       "      <td>11</td>\n",
       "      <td>Honda City 1.5 V AT Sunroof</td>\n",
       "      <td>Kolkata</td>\n",
       "      <td>2012</td>\n",
       "      <td>60000</td>\n",
       "      <td>Petrol</td>\n",
       "      <td>Automatic</td>\n",
       "      <td>First</td>\n",
       "      <td>16</td>\n",
       "      <td>kmpl</td>\n",
       "      <td>116</td>\n",
       "      <td>4.49</td>\n",
       "    </tr>\n",
       "    <tr>\n",
       "      <th>13</th>\n",
       "      <td>13</td>\n",
       "      <td>Land Rover Range Rover 2.2L Pure</td>\n",
       "      <td>Delhi</td>\n",
       "      <td>2014</td>\n",
       "      <td>72000</td>\n",
       "      <td>Diesel</td>\n",
       "      <td>Automatic</td>\n",
       "      <td>First</td>\n",
       "      <td>12</td>\n",
       "      <td>kmpl</td>\n",
       "      <td>187</td>\n",
       "      <td>27.00</td>\n",
       "    </tr>\n",
       "    <tr>\n",
       "      <th>14</th>\n",
       "      <td>14</td>\n",
       "      <td>Land Rover Freelander 2 TD4 SE</td>\n",
       "      <td>Pune</td>\n",
       "      <td>2012</td>\n",
       "      <td>85000</td>\n",
       "      <td>Diesel</td>\n",
       "      <td>Automatic</td>\n",
       "      <td>Second</td>\n",
       "      <td>0</td>\n",
       "      <td>kmpl</td>\n",
       "      <td>115</td>\n",
       "      <td>17.50</td>\n",
       "    </tr>\n",
       "    <tr>\n",
       "      <th>...</th>\n",
       "      <td>...</td>\n",
       "      <td>...</td>\n",
       "      <td>...</td>\n",
       "      <td>...</td>\n",
       "      <td>...</td>\n",
       "      <td>...</td>\n",
       "      <td>...</td>\n",
       "      <td>...</td>\n",
       "      <td>...</td>\n",
       "      <td>...</td>\n",
       "      <td>...</td>\n",
       "      <td>...</td>\n",
       "    </tr>\n",
       "    <tr>\n",
       "      <th>7241</th>\n",
       "      <td>7241</td>\n",
       "      <td>BMW 5 Series 525d Sedan</td>\n",
       "      <td>Delhi</td>\n",
       "      <td>2012</td>\n",
       "      <td>80000</td>\n",
       "      <td>Diesel</td>\n",
       "      <td>Automatic</td>\n",
       "      <td>First</td>\n",
       "      <td>16</td>\n",
       "      <td>kmpl</td>\n",
       "      <td>218</td>\n",
       "      <td>5.64</td>\n",
       "    </tr>\n",
       "    <tr>\n",
       "      <th>7246</th>\n",
       "      <td>7246</td>\n",
       "      <td>Hyundai Grand i10 AT Asta</td>\n",
       "      <td>Coimbatore</td>\n",
       "      <td>2016</td>\n",
       "      <td>18242</td>\n",
       "      <td>Petrol</td>\n",
       "      <td>Automatic</td>\n",
       "      <td>First</td>\n",
       "      <td>18</td>\n",
       "      <td>kmpl</td>\n",
       "      <td>82</td>\n",
       "      <td>5.64</td>\n",
       "    </tr>\n",
       "    <tr>\n",
       "      <th>7249</th>\n",
       "      <td>7249</td>\n",
       "      <td>Volkswagen Polo GT TSI</td>\n",
       "      <td>Mumbai</td>\n",
       "      <td>2015</td>\n",
       "      <td>59000</td>\n",
       "      <td>Petrol</td>\n",
       "      <td>Automatic</td>\n",
       "      <td>First</td>\n",
       "      <td>17</td>\n",
       "      <td>kmpl</td>\n",
       "      <td>103</td>\n",
       "      <td>5.64</td>\n",
       "    </tr>\n",
       "    <tr>\n",
       "      <th>7251</th>\n",
       "      <td>7251</td>\n",
       "      <td>Volkswagen Polo GT TSI</td>\n",
       "      <td>Pune</td>\n",
       "      <td>2013</td>\n",
       "      <td>52262</td>\n",
       "      <td>Petrol</td>\n",
       "      <td>Automatic</td>\n",
       "      <td>Third</td>\n",
       "      <td>17</td>\n",
       "      <td>kmpl</td>\n",
       "      <td>103</td>\n",
       "      <td>5.64</td>\n",
       "    </tr>\n",
       "    <tr>\n",
       "      <th>7252</th>\n",
       "      <td>7252</td>\n",
       "      <td>Mercedes-Benz E-Class 2009-2013 E 220 CDI Avan...</td>\n",
       "      <td>Kochi</td>\n",
       "      <td>2014</td>\n",
       "      <td>72443</td>\n",
       "      <td>Diesel</td>\n",
       "      <td>Automatic</td>\n",
       "      <td>First</td>\n",
       "      <td>10</td>\n",
       "      <td>kmpl</td>\n",
       "      <td>170</td>\n",
       "      <td>5.64</td>\n",
       "    </tr>\n",
       "  </tbody>\n",
       "</table>\n",
       "<p>2049 rows × 12 columns</p>\n",
       "</div>"
      ],
      "text/plain": [
       "      S.No.                                               Name    Location  \\\n",
       "4         4                    Audi A4 New 2.0 TDI Multitronic  Coimbatore   \n",
       "7         7                  Toyota Innova Crysta 2.8 GX AT 8S      Mumbai   \n",
       "11       11                        Honda City 1.5 V AT Sunroof     Kolkata   \n",
       "13       13                   Land Rover Range Rover 2.2L Pure       Delhi   \n",
       "14       14                     Land Rover Freelander 2 TD4 SE        Pune   \n",
       "...     ...                                                ...         ...   \n",
       "7241   7241                            BMW 5 Series 525d Sedan       Delhi   \n",
       "7246   7246                          Hyundai Grand i10 AT Asta  Coimbatore   \n",
       "7249   7249                             Volkswagen Polo GT TSI      Mumbai   \n",
       "7251   7251                             Volkswagen Polo GT TSI        Pune   \n",
       "7252   7252  Mercedes-Benz E-Class 2009-2013 E 220 CDI Avan...       Kochi   \n",
       "\n",
       "      Year  Kilometers_Driven Fuel_Type Transmission Owner_Type  Mileage  \\\n",
       "4     2013              40670    Diesel    Automatic     Second       15   \n",
       "7     2016              36000    Diesel    Automatic      First       11   \n",
       "11    2012              60000    Petrol    Automatic      First       16   \n",
       "13    2014              72000    Diesel    Automatic      First       12   \n",
       "14    2012              85000    Diesel    Automatic     Second        0   \n",
       "...    ...                ...       ...          ...        ...      ...   \n",
       "7241  2012              80000    Diesel    Automatic      First       16   \n",
       "7246  2016              18242    Petrol    Automatic      First       18   \n",
       "7249  2015              59000    Petrol    Automatic      First       17   \n",
       "7251  2013              52262    Petrol    Automatic      Third       17   \n",
       "7252  2014              72443    Diesel    Automatic      First       10   \n",
       "\n",
       "        KM  Power  Price  \n",
       "4     kmpl    140  17.74  \n",
       "7     kmpl    171  17.50  \n",
       "11    kmpl    116   4.49  \n",
       "13    kmpl    187  27.00  \n",
       "14    kmpl    115  17.50  \n",
       "...    ...    ...    ...  \n",
       "7241  kmpl    218   5.64  \n",
       "7246  kmpl     82   5.64  \n",
       "7249  kmpl    103   5.64  \n",
       "7251  kmpl    103   5.64  \n",
       "7252  kmpl    170   5.64  \n",
       "\n",
       "[2049 rows x 12 columns]"
      ]
     },
     "execution_count": 64,
     "metadata": {},
     "output_type": "execute_result"
    }
   ],
   "source": [
    "Autotype"
   ]
  },
  {
   "cell_type": "code",
   "execution_count": 65,
   "id": "968215ee-a00e-4740-a88f-aa927d3e1dc4",
   "metadata": {},
   "outputs": [],
   "source": [
    "Autotype.reset_index(inplace=True , drop=True) # Resets the index and drops the old index column "
   ]
  },
  {
   "cell_type": "code",
   "execution_count": 66,
   "id": "b3cbff85-948d-45d2-b417-1703b892fe31",
   "metadata": {},
   "outputs": [],
   "source": [
    "ind=1\n",
    "for i in range(0,len(Autotype)+1):\n",
    "    Autotype['S.No.'][i] = ind\n",
    "    ind+=1 \n",
    "# Reset the S.No. column for future usage."
   ]
  },
  {
   "cell_type": "code",
   "execution_count": 67,
   "id": "78a29d56-fefb-465e-b52d-07022b32a7be",
   "metadata": {},
   "outputs": [
    {
     "data": {
      "text/html": [
       "<div>\n",
       "<style scoped>\n",
       "    .dataframe tbody tr th:only-of-type {\n",
       "        vertical-align: middle;\n",
       "    }\n",
       "\n",
       "    .dataframe tbody tr th {\n",
       "        vertical-align: top;\n",
       "    }\n",
       "\n",
       "    .dataframe thead th {\n",
       "        text-align: right;\n",
       "    }\n",
       "</style>\n",
       "<table border=\"1\" class=\"dataframe\">\n",
       "  <thead>\n",
       "    <tr style=\"text-align: right;\">\n",
       "      <th></th>\n",
       "      <th>S.No.</th>\n",
       "      <th>Name</th>\n",
       "      <th>Location</th>\n",
       "      <th>Year</th>\n",
       "      <th>Kilometers_Driven</th>\n",
       "      <th>Fuel_Type</th>\n",
       "      <th>Transmission</th>\n",
       "      <th>Owner_Type</th>\n",
       "      <th>Mileage</th>\n",
       "      <th>KM</th>\n",
       "      <th>Power</th>\n",
       "      <th>Price</th>\n",
       "    </tr>\n",
       "  </thead>\n",
       "  <tbody>\n",
       "    <tr>\n",
       "      <th>0</th>\n",
       "      <td>1</td>\n",
       "      <td>Audi A4 New 2.0 TDI Multitronic</td>\n",
       "      <td>Coimbatore</td>\n",
       "      <td>2013</td>\n",
       "      <td>40670</td>\n",
       "      <td>Diesel</td>\n",
       "      <td>Automatic</td>\n",
       "      <td>Second</td>\n",
       "      <td>15</td>\n",
       "      <td>kmpl</td>\n",
       "      <td>140</td>\n",
       "      <td>17.74</td>\n",
       "    </tr>\n",
       "    <tr>\n",
       "      <th>1</th>\n",
       "      <td>2</td>\n",
       "      <td>Toyota Innova Crysta 2.8 GX AT 8S</td>\n",
       "      <td>Mumbai</td>\n",
       "      <td>2016</td>\n",
       "      <td>36000</td>\n",
       "      <td>Diesel</td>\n",
       "      <td>Automatic</td>\n",
       "      <td>First</td>\n",
       "      <td>11</td>\n",
       "      <td>kmpl</td>\n",
       "      <td>171</td>\n",
       "      <td>17.50</td>\n",
       "    </tr>\n",
       "    <tr>\n",
       "      <th>2</th>\n",
       "      <td>3</td>\n",
       "      <td>Honda City 1.5 V AT Sunroof</td>\n",
       "      <td>Kolkata</td>\n",
       "      <td>2012</td>\n",
       "      <td>60000</td>\n",
       "      <td>Petrol</td>\n",
       "      <td>Automatic</td>\n",
       "      <td>First</td>\n",
       "      <td>16</td>\n",
       "      <td>kmpl</td>\n",
       "      <td>116</td>\n",
       "      <td>4.49</td>\n",
       "    </tr>\n",
       "    <tr>\n",
       "      <th>3</th>\n",
       "      <td>4</td>\n",
       "      <td>Land Rover Range Rover 2.2L Pure</td>\n",
       "      <td>Delhi</td>\n",
       "      <td>2014</td>\n",
       "      <td>72000</td>\n",
       "      <td>Diesel</td>\n",
       "      <td>Automatic</td>\n",
       "      <td>First</td>\n",
       "      <td>12</td>\n",
       "      <td>kmpl</td>\n",
       "      <td>187</td>\n",
       "      <td>27.00</td>\n",
       "    </tr>\n",
       "    <tr>\n",
       "      <th>4</th>\n",
       "      <td>5</td>\n",
       "      <td>Land Rover Freelander 2 TD4 SE</td>\n",
       "      <td>Pune</td>\n",
       "      <td>2012</td>\n",
       "      <td>85000</td>\n",
       "      <td>Diesel</td>\n",
       "      <td>Automatic</td>\n",
       "      <td>Second</td>\n",
       "      <td>0</td>\n",
       "      <td>kmpl</td>\n",
       "      <td>115</td>\n",
       "      <td>17.50</td>\n",
       "    </tr>\n",
       "    <tr>\n",
       "      <th>...</th>\n",
       "      <td>...</td>\n",
       "      <td>...</td>\n",
       "      <td>...</td>\n",
       "      <td>...</td>\n",
       "      <td>...</td>\n",
       "      <td>...</td>\n",
       "      <td>...</td>\n",
       "      <td>...</td>\n",
       "      <td>...</td>\n",
       "      <td>...</td>\n",
       "      <td>...</td>\n",
       "      <td>...</td>\n",
       "    </tr>\n",
       "    <tr>\n",
       "      <th>2044</th>\n",
       "      <td>2045</td>\n",
       "      <td>BMW 5 Series 525d Sedan</td>\n",
       "      <td>Delhi</td>\n",
       "      <td>2012</td>\n",
       "      <td>80000</td>\n",
       "      <td>Diesel</td>\n",
       "      <td>Automatic</td>\n",
       "      <td>First</td>\n",
       "      <td>16</td>\n",
       "      <td>kmpl</td>\n",
       "      <td>218</td>\n",
       "      <td>5.64</td>\n",
       "    </tr>\n",
       "    <tr>\n",
       "      <th>2045</th>\n",
       "      <td>2046</td>\n",
       "      <td>Hyundai Grand i10 AT Asta</td>\n",
       "      <td>Coimbatore</td>\n",
       "      <td>2016</td>\n",
       "      <td>18242</td>\n",
       "      <td>Petrol</td>\n",
       "      <td>Automatic</td>\n",
       "      <td>First</td>\n",
       "      <td>18</td>\n",
       "      <td>kmpl</td>\n",
       "      <td>82</td>\n",
       "      <td>5.64</td>\n",
       "    </tr>\n",
       "    <tr>\n",
       "      <th>2046</th>\n",
       "      <td>2047</td>\n",
       "      <td>Volkswagen Polo GT TSI</td>\n",
       "      <td>Mumbai</td>\n",
       "      <td>2015</td>\n",
       "      <td>59000</td>\n",
       "      <td>Petrol</td>\n",
       "      <td>Automatic</td>\n",
       "      <td>First</td>\n",
       "      <td>17</td>\n",
       "      <td>kmpl</td>\n",
       "      <td>103</td>\n",
       "      <td>5.64</td>\n",
       "    </tr>\n",
       "    <tr>\n",
       "      <th>2047</th>\n",
       "      <td>2048</td>\n",
       "      <td>Volkswagen Polo GT TSI</td>\n",
       "      <td>Pune</td>\n",
       "      <td>2013</td>\n",
       "      <td>52262</td>\n",
       "      <td>Petrol</td>\n",
       "      <td>Automatic</td>\n",
       "      <td>Third</td>\n",
       "      <td>17</td>\n",
       "      <td>kmpl</td>\n",
       "      <td>103</td>\n",
       "      <td>5.64</td>\n",
       "    </tr>\n",
       "    <tr>\n",
       "      <th>2048</th>\n",
       "      <td>2049</td>\n",
       "      <td>Mercedes-Benz E-Class 2009-2013 E 220 CDI Avan...</td>\n",
       "      <td>Kochi</td>\n",
       "      <td>2014</td>\n",
       "      <td>72443</td>\n",
       "      <td>Diesel</td>\n",
       "      <td>Automatic</td>\n",
       "      <td>First</td>\n",
       "      <td>10</td>\n",
       "      <td>kmpl</td>\n",
       "      <td>170</td>\n",
       "      <td>5.64</td>\n",
       "    </tr>\n",
       "  </tbody>\n",
       "</table>\n",
       "<p>2049 rows × 12 columns</p>\n",
       "</div>"
      ],
      "text/plain": [
       "      S.No.                                               Name    Location  \\\n",
       "0         1                    Audi A4 New 2.0 TDI Multitronic  Coimbatore   \n",
       "1         2                  Toyota Innova Crysta 2.8 GX AT 8S      Mumbai   \n",
       "2         3                        Honda City 1.5 V AT Sunroof     Kolkata   \n",
       "3         4                   Land Rover Range Rover 2.2L Pure       Delhi   \n",
       "4         5                     Land Rover Freelander 2 TD4 SE        Pune   \n",
       "...     ...                                                ...         ...   \n",
       "2044   2045                            BMW 5 Series 525d Sedan       Delhi   \n",
       "2045   2046                          Hyundai Grand i10 AT Asta  Coimbatore   \n",
       "2046   2047                             Volkswagen Polo GT TSI      Mumbai   \n",
       "2047   2048                             Volkswagen Polo GT TSI        Pune   \n",
       "2048   2049  Mercedes-Benz E-Class 2009-2013 E 220 CDI Avan...       Kochi   \n",
       "\n",
       "      Year  Kilometers_Driven Fuel_Type Transmission Owner_Type  Mileage  \\\n",
       "0     2013              40670    Diesel    Automatic     Second       15   \n",
       "1     2016              36000    Diesel    Automatic      First       11   \n",
       "2     2012              60000    Petrol    Automatic      First       16   \n",
       "3     2014              72000    Diesel    Automatic      First       12   \n",
       "4     2012              85000    Diesel    Automatic     Second        0   \n",
       "...    ...                ...       ...          ...        ...      ...   \n",
       "2044  2012              80000    Diesel    Automatic      First       16   \n",
       "2045  2016              18242    Petrol    Automatic      First       18   \n",
       "2046  2015              59000    Petrol    Automatic      First       17   \n",
       "2047  2013              52262    Petrol    Automatic      Third       17   \n",
       "2048  2014              72443    Diesel    Automatic      First       10   \n",
       "\n",
       "        KM  Power  Price  \n",
       "0     kmpl    140  17.74  \n",
       "1     kmpl    171  17.50  \n",
       "2     kmpl    116   4.49  \n",
       "3     kmpl    187  27.00  \n",
       "4     kmpl    115  17.50  \n",
       "...    ...    ...    ...  \n",
       "2044  kmpl    218   5.64  \n",
       "2045  kmpl     82   5.64  \n",
       "2046  kmpl    103   5.64  \n",
       "2047  kmpl    103   5.64  \n",
       "2048  kmpl    170   5.64  \n",
       "\n",
       "[2049 rows x 12 columns]"
      ]
     },
     "execution_count": 67,
     "metadata": {},
     "output_type": "execute_result"
    }
   ],
   "source": [
    "Autotype"
   ]
  },
  {
   "cell_type": "code",
   "execution_count": 68,
   "id": "f95250fa-d071-401c-9917-6849c74f0eb8",
   "metadata": {},
   "outputs": [
    {
     "data": {
      "text/plain": [
       "Transmission\n",
       "Automatic    17.563294\n",
       "Name: Price, dtype: float64"
      ]
     },
     "execution_count": 68,
     "metadata": {},
     "output_type": "execute_result"
    }
   ],
   "source": [
    "Autotype.groupby(\"Transmission\")[\"Price\"].mean() # Returns Average of the transmission type (Only contains automatic now) "
   ]
  },
  {
   "cell_type": "code",
   "execution_count": null,
   "id": "00589910-58c7-42cb-903f-6390b3f8e606",
   "metadata": {},
   "outputs": [],
   "source": []
  }
 ],
 "metadata": {
  "kernelspec": {
   "display_name": "Python 3 (ipykernel)",
   "language": "python",
   "name": "python3"
  },
  "language_info": {
   "codemirror_mode": {
    "name": "ipython",
    "version": 3
   },
   "file_extension": ".py",
   "mimetype": "text/x-python",
   "name": "python",
   "nbconvert_exporter": "python",
   "pygments_lexer": "ipython3",
   "version": "3.12.7"
  }
 },
 "nbformat": 4,
 "nbformat_minor": 5
}
